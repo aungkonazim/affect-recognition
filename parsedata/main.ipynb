{
 "cells": [
  {
   "cell_type": "markdown",
   "metadata": {},
   "source": [
    "Unzipping Dataset"
   ]
  },
  {
   "cell_type": "code",
   "execution_count": null,
   "metadata": {},
   "outputs": [],
   "source": [
    "import pickle\n",
    "import numpy as np\n",
    "import pandas as pd\n",
    "import os\n",
    "\n",
    "directory = '../../affect-recognition/data/WESAD.zip'\n",
    "output_directory = '../../affect-recognition/data/'\n",
    "\n",
    "os.listdir(output_directory)\n",
    "\n",
    "import zipfile\n",
    "with zipfile.ZipFile(directory, 'r') as zip_ref:\n",
    "    zip_ref.extractall(output_directory)"
   ]
  },
  {
   "cell_type": "markdown",
   "metadata": {},
   "source": [
    "Plotting Individual Data"
   ]
  },
  {
   "cell_type": "code",
   "execution_count": 21,
   "metadata": {},
   "outputs": [],
   "source": [
    "import pickle\n",
    "import os\n",
    "import numpy as np\n",
    "from datetime import datetime\n",
    "import pandas as pd\n",
    "import matplotlib.pyplot as plt\n",
    "from ecgdetectors import Detectors\n",
    "from scipy import signal\n",
    "from scipy.stats import skew,kurtosis,iqr\n",
    "import pickle\n",
    "from peak_valley import compute_peak_valley\n",
    "from respiration_feature import rip_cycle_feature_computation\n",
    "filelists = ['../../affect-recognition/data/WESAD/'+a+'/'+a+'.pkl' for a in os.listdir('../../affect-recognition/data/WESAD/') if a[-1] not in ['s','f']]"
   ]
  },
  {
   "cell_type": "code",
   "execution_count": null,
   "metadata": {},
   "outputs": [
    {
     "name": "stdout",
     "output_type": "stream",
     "text": [
      "(691, 7) (691, 7)\n",
      "(691, 7)\n",
      "(652, 7) (652, 7)\n",
      "(652, 7)\n",
      "(692, 7) (692, 7)\n",
      "(692, 7)\n",
      "(810, 7) (810, 7)\n",
      "(810, 7)\n"
     ]
    }
   ],
   "source": [
    "%matplotlib notebook\n",
    "def get_ecg_rr(ecg_data):\n",
    "    detectors = Detectors(700)\n",
    "    rpeaks = detectors.hamilton_detector(ecg_data[:,1])\n",
    "    ecg_r_ts = ecg_data[np.array(rpeaks),0]\n",
    "    ecg_rr_ts = ecg_r_ts[1:]\n",
    "    ecg_rr_sample = np.diff(ecg_r_ts)\n",
    "    ecg_rr = pd.DataFrame(np.vstack([ecg_rr_ts,ecg_rr_sample]).T,columns=['time','rr'])\n",
    "    ecg_rr['timestamp'] = ecg_rr['time'].apply(lambda a:datetime.utcfromtimestamp(a))\n",
    "    return ecg_rr\n",
    "\n",
    "def bandpass_filter(data,Fs=64,fil_type='ppg'):\n",
    "    X0 = data[:,1]\n",
    "    X1 = signal.detrend(X0,axis=0,type='constant')\n",
    "    X2 = np.zeros((np.shape(X1)[0],data.shape[1]))\n",
    "    nyq = Fs/2\n",
    "    b = signal.firls(219,np.array([0,0.3,0.5,3.5,4,nyq]),\n",
    "                              np.array([0,0,1,1,0,0]),np.array([10,1,1]),fs=nyq*2)\n",
    "    a = [1]\n",
    "    X2[:,0] = data[:,0]\n",
    "    X2[:,1] = signal.filtfilt(b, a, X1)\n",
    "    return X2\n",
    "\n",
    "def bandpass_filter_respiration(data,Fs=700,fil_type='ppg'):\n",
    "    X0 = data[:,1]\n",
    "    X1 = signal.detrend(X0,axis=0,type='constant')\n",
    "    X2 = np.zeros((np.shape(X1)[0],data.shape[1]))\n",
    "    nyq = Fs/2\n",
    "    b = signal.firls(219,np.array([0,0.03,0.1,2,2.5,nyq]),\n",
    "                              np.array([0,0,1,1,0,0]),np.array([10,1,1]),fs=nyq*2)\n",
    "    a = [1]\n",
    "    X2[:,0] = data[:,0]\n",
    "    X2[:,1] = signal.filtfilt(b, a, X1)\n",
    "    return X2\n",
    "\n",
    "def get_quality_features(ppg_data,ppg_fs=64,window_size=2.5):\n",
    "    ppg_data_final = []\n",
    "    n = int(ppg_fs*window_size/2)\n",
    "    for i in range(n,ppg_data.shape[0]-n,1):\n",
    "        tmp = []\n",
    "        tmp.append(ppg_data[i,0])\n",
    "        tmp.append(ppg_data[i,1])\n",
    "        sample = ppg_data[(i-n):(i+n),1]\n",
    "        tmp.append(skew(sample))\n",
    "        tmp.append(kurtosis(sample))\n",
    "        tmp.append(iqr(sample))\n",
    "        f,pxx = signal.welch(sample,fs=ppg_fs,nperseg=len(sample)//2,nfft=10000,axis=0)\n",
    "        tmp.append(np.trapz(pxx[np.where((f>=.8)&(f<=2.5))[0]])/np.trapz(pxx))\n",
    "        ppg_data_final.append(np.array(tmp))\n",
    "    return np.array(ppg_data_final)\n",
    "\n",
    "\n",
    "def save_participant_data(filename,ecg_fs = 700,ppg_fs = 64,window_size=8):\n",
    "    data = pickle.load(open(filename,'rb'),encoding='latin1')\n",
    "    ppg_data = data['signal']['wrist']['BVP']\n",
    "    ecg_data = data['signal']['chest']['ECG']\n",
    "    respiration_data = data['signal']['chest']['Resp']\n",
    "    total_seconds = ppg_data.shape[0]/ppg_fs\n",
    "    start_ts = datetime.utcnow().timestamp()\n",
    "    ecg_ts = start_ts + np.arange(0,total_seconds,1/ecg_fs)\n",
    "    respiration_ts = ecg_ts\n",
    "    respiration_data = np.vstack([respiration_ts,respiration_data.reshape(-1)]).T\n",
    "    ecg_data = np.vstack([ecg_ts,ecg_data.reshape(-1)]).T\n",
    "    ecg_rr1 = get_ecg_rr(ecg_data)\n",
    "    ecg_rr = ecg_rr1.values\n",
    "    ppg_ts = start_ts + np.arange(0,total_seconds,1/ppg_fs)\n",
    "    ppg_data = np.vstack([ppg_ts,ppg_data.reshape(-1)]).T\n",
    "    ppg_data = bandpass_filter(ppg_data,Fs=ppg_fs,fil_type='ppg')\n",
    "    respiration_data = bandpass_filter_respiration(respiration_data,Fs=ecg_fs,fil_type='ppg')\n",
    "    respiration_data[:,0] = respiration_data[:,0]*1000\n",
    "    peak_index,valley_index = compute_peak_valley(respiration_data)\n",
    "    peak_data = respiration_data[peak_index]\n",
    "    valley_data = respiration_data[valley_index]\n",
    "    rip_feature = rip_cycle_feature_computation(peak_data,valley_data)[:,:5]\n",
    "    rip_feature[:,:2] = rip_feature[:,:2]/1000\n",
    "    ppg_data = get_quality_features(ppg_data)\n",
    "#     plt.figure(figsize=(10,5))\n",
    "#     plt.plot(ppg_data[:,0],ppg_data[:,1]/np.max(ppg_data[:,1]))\n",
    "#     plt.bar(ppg_data[:,0],ppg_data[:,-1],.95/ppg_fs)\n",
    "#     plt.show()\n",
    "    ppg_data = pd.DataFrame(ppg_data,columns=['time','ppg','skew','kurtosis','iqr','relative_power']).dropna()\n",
    "    \n",
    "    ppg_data['timestamp'] = ppg_data['time'].apply(lambda a:datetime.utcfromtimestamp(a))\n",
    "    \n",
    "    ppg_windows = pd.DataFrame([[a['time'].min(),a['time'].max(),a[['time','ppg']]] \n",
    "                                for i,a in ppg_data.groupby(pd.Grouper(key='timestamp',freq=str(window_size)+'S')) if a.shape[0]==window_size*ppg_fs],columns=['start_time',\n",
    "                                                                                                                               'end_time',\n",
    "                                                                                                                               'data'])\n",
    "    ppg_windows['ecg_rr'] = ppg_windows.apply(lambda a:np.mean(ecg_rr[np.where((ecg_rr[:,0]>=a['start_time'])&(ecg_rr[:,0]<a['end_time']))[0],1]),axis=1)\n",
    "    ppg_windows['inspiration_duration'] = ppg_windows.apply(lambda a:np.mean(rip_feature[np.where((rip_feature[:,1]>=a['start_time'])&(rip_feature[:,0]<a['end_time']))[0],2]),axis=1)\n",
    "    ppg_windows['expiration_duration'] = ppg_windows.apply(lambda a:np.mean(rip_feature[np.where((rip_feature[:,1]>=a['start_time'])&(rip_feature[:,0]<a['end_time']))[0],3]),axis=1)\n",
    "    ppg_windows['respiration_duration'] = ppg_windows.apply(lambda a:np.mean(rip_feature[np.where((rip_feature[:,1]>=a['start_time'])&(rip_feature[:,0]<a['end_time']))[0],4]),axis=1)\n",
    "    print(ppg_windows.shape,ppg_windows.dropna().shape)\n",
    "#     plt.figure(figsize=(18,8))\n",
    "#     plt.plot(ppg_windows['start_time'],ppg_windows['respiration_duration'])\n",
    "#     plt.plot(rip_feature[:,0],rip_feature[:,-1])\n",
    "#     plt.show()\n",
    "    print(ppg_windows.shape)\n",
    "    if not os.path.isdir(output_directory+str(window_size)):\n",
    "        os.makedirs(output_directory+str(window_size))\n",
    "    final_path = output_directory+str(window_size)+'/'\n",
    "    participant_name = filename.split('/')[-1]\n",
    "    pickle.dump(ppg_windows,open(final_path+participant_name,'wb'))\n",
    "    \n",
    "output_directory = '../../affect-recognition/data/'\n",
    "final = [save_participant_data(f,window_size=8) for f in filelists]\n",
    "# for filename in filelists:\n",
    "filelists[0]\n",
    "    \n",
    "#     print(ecg_rr.head(),ppg_data.head())"
   ]
  },
  {
   "cell_type": "code",
   "execution_count": null,
   "metadata": {},
   "outputs": [],
   "source": [
    "import matplotlib.pyplot as plt\n",
    "plt.figure(figsize=(18,10))\n",
    "plt.plot(data['signal']['wrist']['BVP'][255000:260000])\n",
    "# plt.plot(data['signal']['chest']['ECG'][:30000])\n",
    "data['signal']['wrist']['BVP'].shape[0]/64,data['signal']['chest']['ECG'].shape[0]/700"
   ]
  },
  {
   "cell_type": "code",
   "execution_count": null,
   "metadata": {},
   "outputs": [],
   "source": [
    "data['label'].shape"
   ]
  },
  {
   "cell_type": "code",
   "execution_count": null,
   "metadata": {},
   "outputs": [],
   "source": []
  }
 ],
 "metadata": {
  "kernelspec": {
   "display_name": "Python 3",
   "language": "python",
   "name": "python3"
  },
  "language_info": {
   "codemirror_mode": {
    "name": "ipython",
    "version": 3
   },
   "file_extension": ".py",
   "mimetype": "text/x-python",
   "name": "python",
   "nbconvert_exporter": "python",
   "pygments_lexer": "ipython3",
   "version": "3.6.9"
  }
 },
 "nbformat": 4,
 "nbformat_minor": 2
}
