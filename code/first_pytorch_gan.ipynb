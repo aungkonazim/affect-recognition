{
 "cells": [
  {
   "cell_type": "code",
   "execution_count": 4,
   "metadata": {},
   "outputs": [],
   "source": [
    "import pickle\n",
    "import numpy as np\n",
    "from sklearn.preprocessing import RobustScaler,MinMaxScaler\n",
    "X_ppg,X_qual,X_acc,y_rr,y_respiration,y_inspiration,y_expiration,groups,X_respiration,y_activity,y_label = pickle.load(open('../../affect-recognition/data/tabular_data_8.p','rb'))"
   ]
  },
  {
   "cell_type": "code",
   "execution_count": 5,
   "metadata": {},
   "outputs": [
    {
     "name": "stderr",
     "output_type": "stream",
     "text": [
      "/home/azim/.local/lib/python3.6/site-packages/sklearn/preprocessing/_encoders.py:371: FutureWarning: The handling of integer data will change in version 0.22. Currently, the categories are determined based on the range [0, max(values)], while in the future they will be determined based on the unique values.\n",
      "If you want the future behaviour and silence this warning, you can specify \"categories='auto'\".\n",
      "In case you used a LabelEncoder before this OneHotEncoder to convert the categories to integers, then you can now use the OneHotEncoder directly.\n",
      "  warnings.warn(msg, FutureWarning)\n"
     ]
    }
   ],
   "source": [
    "from sklearn.preprocessing import OneHotEncoder\n",
    "index = np.where((y_activity!=0)&(y_activity!=3)&(y_activity!=6)&(y_activity!=8))[0]\n",
    "# index = np.where((y_activity==1))[0]\n",
    "X_acc = X_acc[index]\n",
    "y_activity = y_activity[index]\n",
    "groups = groups[index]\n",
    "y_activity = OneHotEncoder().fit_transform(y_activity.reshape(-1,1)).todense()\n",
    "X_fft = np.fft.fft(X_acc[:,:,:],axis=1)\n",
    "X_fft_real = X_fft.real\n",
    "X_fft_imag = X_fft.imag\n",
    "X_fft = np.concatenate([X_fft_real,X_fft_imag],axis=2)\n",
    "max_value = X_fft.max()\n",
    "X_fft = X_fft/max_value\n",
    "X_fft = X_fft.reshape(-1,256*6)"
   ]
  },
  {
   "cell_type": "code",
   "execution_count": 6,
   "metadata": {},
   "outputs": [
    {
     "data": {
      "text/plain": [
       "((22832, 1536), (22832, 5))"
      ]
     },
     "execution_count": 6,
     "metadata": {},
     "output_type": "execute_result"
    }
   ],
   "source": [
    "import matplotlib.pyplot as plt\n",
    "import numpy as np\n",
    "\n",
    "import torch\n",
    "import torch.nn as nn\n",
    "from torchvision.datasets import ImageFolder, MNIST\n",
    "from torchvision import transforms,datasets\n",
    "from torch import autograd\n",
    "from torch.autograd import Variable\n",
    "from torchvision.utils import make_grid\n",
    "from torchsummary import summary\n",
    "# from tensorboardX import SummaryWriter\n",
    "X_fft.shape\n",
    "# y_activity = np.array(np.argmax(y_activity,axis=1)).reshape(-1,1)\n",
    "# X_fft = X_fft[np.where(y_activity[:,-1]==1)[0]]\n",
    "# y_activity = y_activity[np.where(y_activity[:,-1]==1)[0]]\n",
    "\n",
    "X_fft.shape,y_activity.shape"
   ]
  },
  {
   "cell_type": "code",
   "execution_count": 7,
   "metadata": {},
   "outputs": [],
   "source": [
    "import torch.utils.data as data_utils\n",
    "batch_size = 128\n",
    "train = data_utils.TensorDataset(torch.from_numpy(X_fft), torch.from_numpy(y_activity.reshape(-1,1,5)))\n",
    "data_loader = data_utils.DataLoader(train, batch_size=batch_size, shuffle=True)"
   ]
  },
  {
   "cell_type": "code",
   "execution_count": 35,
   "metadata": {},
   "outputs": [],
   "source": [
    "class AddGaussianNoise(object):\n",
    "    def __init__(self, mean=0., std=.02):\n",
    "        self.std = std\n",
    "        self.mean = mean\n",
    "        \n",
    "    def __call__(self, tensor):\n",
    "        return tensor + torch.randn(tensor.size()) * self.std + self.mean\n",
    "    \n",
    "    def __repr__(self):\n",
    "        return self.__class__.__name__ + '(mean={0}, std={1})'.format(self.mean, self.std)\n",
    "# class Discriminator(nn.Module):\n",
    "#     def __init__(self):\n",
    "#         super().__init__()\n",
    "#         self.n_timesteps = 256\n",
    "#         self.n_channels = 6\n",
    "#         self.model_temp = nn.Sequential(\n",
    "#             nn.ConvTranspose1d(1,1,kernel_size=8,dilation=4,padding=1,output_padding=1),\n",
    "#             nn.ConvTranspose1d(1,1,kernel_size=9,dilation=4,padding=0,output_padding=0),\n",
    "#             nn.ConvTranspose1d(1,1,kernel_size=10,dilation=4,padding=0,output_padding=1,stride=2),\n",
    "#         )\n",
    "        \n",
    "#         self.model_temp2 = nn.Sequential(\n",
    "#             nn.Flatten(),\n",
    "#             nn.Linear(164,self.n_timesteps//4),\n",
    "#             nn.Linear(self.n_timesteps//4,self.n_timesteps),\n",
    "#             nn.ReLU(),\n",
    "#             nn.Linear(self.n_timesteps,self.n_timesteps*2),\n",
    "#             nn.ReLU(),\n",
    "#             nn.Linear(self.n_timesteps*2,self.n_timesteps*6)\n",
    "#         )\n",
    "        \n",
    "#         self.model_temp3 = nn.Sequential(\n",
    "#             nn.Conv1d(12,100,9,1,padding=4),\n",
    "#             nn.MaxPool1d(2),\n",
    "#             nn.Tanh(),\n",
    "#             nn.Conv1d(100,200,9,1,padding=4),\n",
    "#             nn.MaxPool1d(4),\n",
    "#             nn.Tanh(),\n",
    "#             nn.Conv1d(200,300,9,1,padding=4),\n",
    "#             nn.Flatten(),\n",
    "#             nn.Linear(32*300,30),\n",
    "# #             nn.ELU(),\n",
    "#             nn.Linear(30,1),\n",
    "#             nn.Sigmoid()           \n",
    "#         )\n",
    "    \n",
    "#     def forward(self,x, labels):\n",
    "#         labels = labels.view(labels.size(0),1,5)\n",
    "#         y = self.model_temp(labels.float())\n",
    "#         y = self.model_temp2(y.view(y.size(0),164))\n",
    "#         y = y.view(y.size(0),6,self.n_timesteps)\n",
    "#         x = x.view(x.size(0),self.n_channels,self.n_timesteps)\n",
    "#         z = torch.cat([x.double(),y.double()],1)\n",
    "#         z = self.model_temp3(z.float())\n",
    "#         return z.squeeze()\n",
    "\n",
    "\n",
    "\n",
    "class Discriminator(nn.Module):\n",
    "    def __init__(self):\n",
    "        super().__init__()\n",
    "        self.n_timesteps = 256\n",
    "        self.n_channels = 6\n",
    "        self.std = .002\n",
    "        self.model_temp = nn.Sequential(\n",
    "            nn.Flatten(),\n",
    "            nn.Linear(5,self.n_timesteps*self.n_channels)\n",
    "        )\n",
    "        \n",
    "        self.model_temp3 = nn.Sequential(\n",
    "            nn.Conv1d(12,50,9,1,padding=4),\n",
    "            nn.LeakyReLU(),\n",
    "            nn.MaxPool1d(2),\n",
    "#             nn.Dropout(.4),\n",
    "            nn.LeakyReLU(),\n",
    "            nn.Conv1d(50,25,9,1,padding=4),\n",
    "            nn.MaxPool1d(4),\n",
    "#             nn.Dropout(.4),\n",
    "            nn.LeakyReLU(),\n",
    "            nn.Conv1d(25,10,9,1,padding=4),\n",
    "            nn.MaxPool1d(2),\n",
    "#             nn.Dropout(.2),\n",
    "            nn.Flatten(),\n",
    "            nn.Linear(160,10),\n",
    "#             nn.LeakyReLU(),\n",
    "            nn.Linear(10,1),\n",
    "            nn.Sigmoid()           \n",
    "        )\n",
    "    \n",
    "    def forward(self,x, labels):\n",
    "        x = x + torch.randn(x.size()).cuda() * self.std\n",
    "        labels = labels + torch.randn(labels.size()).cuda() * self.std\n",
    "        labels = labels.view(labels.size(0),5)\n",
    "        y = self.model_temp(labels.float())\n",
    "        y = y.view(y.size(0),self.n_channels,self.n_timesteps)\n",
    "        x = x.view(x.size(0),self.n_channels,self.n_timesteps)\n",
    "        z = torch.cat([x.double(),y.double()],1)\n",
    "        z = self.model_temp3(z.float())\n",
    "        return z.squeeze()\n",
    "\n",
    "\n",
    "# class Generator(nn.Module):\n",
    "#     def __init__(self):\n",
    "#         super().__init__()\n",
    "#         self.n_timesteps = 256\n",
    "#         self.n_channels = 6\n",
    "#         self.model_temp = nn.Sequential(\n",
    "#             nn.ConvTranspose1d(1,1,kernel_size=8,dilation=4,padding=1,output_padding=1),\n",
    "#             nn.ConvTranspose1d(1,1,kernel_size=9,dilation=4,padding=0,output_padding=0),\n",
    "#             nn.ConvTranspose1d(1,1,kernel_size=10,dilation=4,padding=0,output_padding=1,stride=2),\n",
    "#         )\n",
    "#         self.model_temp2 = nn.Sequential(\n",
    "#             nn.Flatten(),\n",
    "#             nn.Linear(164,self.n_timesteps//4),\n",
    "#             nn.Linear(self.n_timesteps//4,self.n_timesteps),\n",
    "# #             nn.Tanh(),\n",
    "# #             nn.Linear(self.n_timesteps,self.n_timesteps*2),\n",
    "# #             nn.Tanh(),\n",
    "#             nn.Linear(self.n_timesteps,self.n_timesteps*6)\n",
    "#         )\n",
    "#         self.model_temp3 = nn.Sequential(\n",
    "#             nn.Flatten(),\n",
    "#             nn.Linear(354,self.n_timesteps//4),\n",
    "# #             nn.Linear(self.n_timesteps//4,self.n_timesteps),\n",
    "# #             nn.Tanh(),\n",
    "# #             nn.Linear(self.n_timesteps,self.n_timesteps*2),\n",
    "# #             nn.Tanh(),\n",
    "#             nn.Linear(self.n_timesteps//4,self.n_timesteps*6)\n",
    "#         )\n",
    "        \n",
    "#         self.model_temp4 = nn.Sequential(\n",
    "#             nn.Conv1d(12,100,9,1,padding=4),\n",
    "#             nn.Tanh(),\n",
    "#             nn.Conv1d(100,200,9,1,padding=4),\n",
    "#             nn.Tanh(),\n",
    "#             nn.Conv1d(200,300,9,1,padding=4),\n",
    "#             nn.Tanh(),\n",
    "#             nn.Conv1d(300,6,9,1,padding=4),\n",
    "#             nn.Tanh()\n",
    "            \n",
    "#          )\n",
    "    \n",
    "#     def forward(self,x,labels):\n",
    "# #         print(labels.shape,x.shape)\n",
    "#         labels = labels.view(labels.size(0),1,5)\n",
    "#         y = self.model_temp(labels.float())\n",
    "#         x = x.view(x.size(0),1,100)\n",
    "#         x = self.model_temp(x)\n",
    "#         x = self.model_temp3(x)\n",
    "#         x = x.view(x.size(0),self.n_channels,self.n_timesteps)\n",
    "#         y = self.model_temp2(y.view(y.size(0),164))\n",
    "#         y = y.view(y.size(0),self.n_channels,self.n_timesteps)\n",
    "#         y = torch.cat([x,y],1)\n",
    "#         y = self.model_temp4(y)\n",
    "#         y = y.view(y.size(0),self.n_timesteps,self.n_channels)\n",
    "#         return y.squeeze()\n",
    "\n",
    "\n",
    "class Generator(nn.Module):\n",
    "    def __init__(self):\n",
    "        super().__init__()\n",
    "        self.n_timesteps = 256\n",
    "        self.n_channels = 6\n",
    "        self.std = .002\n",
    "        self.model_temp = nn.Sequential(\n",
    "            nn.Flatten(),\n",
    "            nn.Linear(5,self.n_timesteps*self.n_channels),\n",
    "            nn.LeakyReLU(.2),\n",
    "        )\n",
    "        \n",
    "        self.model_temp1 = nn.Sequential(\n",
    "            nn.Flatten(),\n",
    "            nn.Linear(100,self.n_timesteps*self.n_channels*2),\n",
    "            nn.LeakyReLU(.2)\n",
    "        )\n",
    "        \n",
    "        self.model_temp2 = nn.Sequential(\n",
    "            nn.Conv1d(12,12,9,1,padding=4),\n",
    "            nn.LeakyReLU(.2)\n",
    "        )\n",
    "        \n",
    "        self.model_temp3 = nn.Sequential(\n",
    "            nn.Conv1d(6,6,9,1,padding=4),\n",
    "            nn.LeakyReLU(.2)\n",
    "        )\n",
    "        \n",
    "        self.model_temp4 = nn.Sequential(\n",
    "            nn.Conv1d(18,100,9,1,padding=4),\n",
    "            nn.LeakyReLU(.2),\n",
    "#             nn.BatchNorm1d(100),\n",
    "            nn.Conv1d(100,100,9,1,padding=4),\n",
    "#             nn.BatchNorm1d(100),\n",
    "            nn.Tanh(),\n",
    "            nn.Conv1d(100,6,9,1,padding=4),\n",
    "            nn.Tanh()\n",
    "         )\n",
    "    \n",
    "    def forward(self,x,labels):\n",
    "        labels = labels + torch.randn(labels.size()).cuda() * self.std\n",
    "        x = x + torch.randn(x.size()).cuda() * self.std\n",
    "        labels = labels.view(labels.size(0),1,5).float()\n",
    "        y = self.model_temp(labels)\n",
    "        y = y.view(y.size(0),self.n_channels,self.n_timesteps)\n",
    "        x = x.view(x.size(0),100)\n",
    "        x = self.model_temp1(x)\n",
    "        x = x.view(x.size(0),self.n_channels*2,self.n_timesteps)\n",
    "        x = self.model_temp2(x)\n",
    "        y = self.model_temp3(y)\n",
    "        y = torch.cat([x,y],1)\n",
    "        y = self.model_temp4(y)\n",
    "        y = y.view(y.size(0),self.n_timesteps,self.n_channels)\n",
    "        return y.squeeze()\n"
   ]
  },
  {
   "cell_type": "code",
   "execution_count": 36,
   "metadata": {},
   "outputs": [],
   "source": [
    "# model = Discriminator()\n",
    "# model = Generator()\n",
    "# summary(model,((1,100),(1,5)))"
   ]
  },
  {
   "cell_type": "code",
   "execution_count": 37,
   "metadata": {},
   "outputs": [
    {
     "data": {
      "text/plain": [
       "Generator(\n",
       "  (model_temp): Sequential(\n",
       "    (0): Flatten()\n",
       "    (1): Linear(in_features=5, out_features=1536, bias=True)\n",
       "    (2): LeakyReLU(negative_slope=0.2)\n",
       "  )\n",
       "  (model_temp1): Sequential(\n",
       "    (0): Flatten()\n",
       "    (1): Linear(in_features=100, out_features=3072, bias=True)\n",
       "    (2): LeakyReLU(negative_slope=0.2)\n",
       "  )\n",
       "  (model_temp2): Sequential(\n",
       "    (0): Conv1d(12, 12, kernel_size=(9,), stride=(1,), padding=(4,))\n",
       "    (1): LeakyReLU(negative_slope=0.2)\n",
       "  )\n",
       "  (model_temp3): Sequential(\n",
       "    (0): Conv1d(6, 6, kernel_size=(9,), stride=(1,), padding=(4,))\n",
       "    (1): LeakyReLU(negative_slope=0.2)\n",
       "  )\n",
       "  (model_temp4): Sequential(\n",
       "    (0): Conv1d(18, 100, kernel_size=(9,), stride=(1,), padding=(4,))\n",
       "    (1): LeakyReLU(negative_slope=0.2)\n",
       "    (2): Conv1d(100, 100, kernel_size=(9,), stride=(1,), padding=(4,))\n",
       "    (3): Tanh()\n",
       "    (4): Conv1d(100, 6, kernel_size=(9,), stride=(1,), padding=(4,))\n",
       "    (5): Tanh()\n",
       "  )\n",
       ")"
      ]
     },
     "execution_count": 37,
     "metadata": {},
     "output_type": "execute_result"
    }
   ],
   "source": [
    "generator = Generator().cuda()\n",
    "discriminator = Discriminator().cuda()\n",
    "def weights_init_uniform_rule(m):\n",
    "    classname = m.__class__.__name__\n",
    "    # for every Linear layer in a model..\n",
    "    if classname.find('Linear') != -1:\n",
    "        # get the number of the inputs\n",
    "        n = m.in_features\n",
    "        y = 1.0/np.sqrt(n)\n",
    "        m.weight.data.uniform_(-y, y)\n",
    "        m.bias.data.fill_(0)\n",
    "\n",
    "    # create a new model with these weights\n",
    "\n",
    "discriminator.apply(weights_init_uniform_rule)\n",
    "generator.apply(weights_init_uniform_rule)"
   ]
  },
  {
   "cell_type": "code",
   "execution_count": 38,
   "metadata": {},
   "outputs": [],
   "source": [
    "criterion = nn.BCELoss()\n",
    "d_optimizer = torch.optim.Adam(discriminator.parameters(), lr=1e-2)\n",
    "g_optimizer = torch.optim.Adam(generator.parameters(), lr=1e-2)"
   ]
  },
  {
   "cell_type": "code",
   "execution_count": 39,
   "metadata": {},
   "outputs": [],
   "source": [
    "def generator_train_step(batch_size, discriminator, generator, g_optimizer, criterion):\n",
    "#     discriminator.eval()\n",
    "    g_optimizer.zero_grad()\n",
    "    z = Variable(torch.randn(batch_size, 100)).cuda()\n",
    "    a = np.random.randint(0, 5, batch_size)\n",
    "    b = np.zeros((a.size, 4+1))\n",
    "    b[np.arange(a.size),a] = 1\n",
    "    fake_labels = Variable(torch.LongTensor(b)).cuda()\n",
    "    fake_images = generator(z, fake_labels)\n",
    "    validity = discriminator(fake_images, fake_labels)\n",
    "    g_loss = criterion(validity, Variable(torch.zeros(batch_size)).cuda())\n",
    "    all_params = torch.cat([x.view(-1) for x in generator.parameters()])\n",
    "    l1_regularization = torch.norm(all_params, 1)\n",
    "    l2_regularization = torch.norm(all_params, 2)\n",
    "#     g_loss = g_loss+l1_regularization+l2_regularization\n",
    "    g_loss.backward()\n",
    "    torch.nn.utils.clip_grad_norm_(generator.parameters(), 1)\n",
    "    g_optimizer.step()\n",
    "    return g_loss.item()"
   ]
  },
  {
   "cell_type": "code",
   "execution_count": 40,
   "metadata": {},
   "outputs": [],
   "source": [
    "def discriminator_train_step(batch_size, discriminator, generator, d_optimizer, criterion, real_images, labels):\n",
    "    for _ in range(1):\n",
    "#     discriminator.train()\n",
    "        d_optimizer.zero_grad()\n",
    "        real_validity = discriminator(real_images, labels)\n",
    "        real_loss = criterion(real_validity, Variable(torch.ones(batch_size)).cuda())\n",
    "        all_params = torch.cat([x.view(-1) for x in discriminator.parameters()])\n",
    "        l1_regularization = torch.norm(all_params, 1)\n",
    "        l2_regularization = torch.norm(all_params, 2)\n",
    "#         real_loss = real_loss + l1_regularization+l2_regularization\n",
    "        real_loss.backward()\n",
    "        torch.nn.utils.clip_grad_norm_(discriminator.parameters(), 1)\n",
    "        d_optimizer.step()\n",
    "\n",
    "        # train with fake image\n",
    "        d_optimizer.zero_grad()\n",
    "\n",
    "        z = Variable(torch.randn(batch_size, 100)).cuda()\n",
    "        a = np.random.randint(0, 5, batch_size)\n",
    "        b = np.zeros((a.size, 4+1))\n",
    "        b[np.arange(a.size),a] = 1\n",
    "        fake_labels = Variable(torch.LongTensor(b)).cuda()\n",
    "        fake_images = generator(z, fake_labels)\n",
    "        fake_validity = discriminator(fake_images, fake_labels)\n",
    "        fake_loss = criterion(fake_validity, Variable(torch.zeros(batch_size)).cuda())\n",
    "        all_params = torch.cat([x.view(-1) for x in discriminator.parameters()])\n",
    "        l1_regularization = torch.norm(all_params, 1)\n",
    "        l2_regularization = torch.norm(all_params, 2)\n",
    "#         fake_loss = fake_loss + l1_regularization+l2_regularization\n",
    "    #     print(real_loss,fake_loss)\n",
    "    #     d_loss = real_loss + fake_loss\n",
    "        fake_loss.backward()\n",
    "        torch.nn.utils.clip_grad_norm_(discriminator.parameters(), 1)\n",
    "        d_optimizer.step()\n",
    "    return (real_loss+fake_loss).item()"
   ]
  },
  {
   "cell_type": "code",
   "execution_count": 41,
   "metadata": {
    "scrolled": true
   },
   "outputs": [
    {
     "name": "stdout",
     "output_type": "stream",
     "text": [
      "Starting epoch 0... (5, 1, 256, 6)\n",
      "2.527689\n"
     ]
    },
    {
     "name": "stderr",
     "output_type": "stream",
     "text": [
      "/home/azim/.local/lib/python3.6/site-packages/numpy/core/_asarray.py:85: ComplexWarning: Casting complex values to real discards the imaginary part\n",
      "  return array(a, dtype, copy=False, order=order)\n",
      "/home/azim/.local/lib/python3.6/site-packages/numpy/core/_asarray.py:85: ComplexWarning: Casting complex values to real discards the imaginary part\n",
      "  return array(a, dtype, copy=False, order=order)\n",
      "/home/azim/.local/lib/python3.6/site-packages/numpy/core/_asarray.py:85: ComplexWarning: Casting complex values to real discards the imaginary part\n",
      "  return array(a, dtype, copy=False, order=order)\n",
      "/home/azim/.local/lib/python3.6/site-packages/matplotlib/text.py:1150: FutureWarning: elementwise comparison failed; returning scalar instead, but in the future will perform elementwise comparison\n",
      "  if s != self._text:\n"
     ]
    },
    {
     "data": {
      "image/png": "[encoded data removed]",
      "text/plain": [
       "<Figure size 432x288 with 1 Axes>"
      ]
     },
     "metadata": {
      "needs_background": "light"
     },
     "output_type": "display_data"
    },
    {
     "name": "stderr",
     "output_type": "stream",
     "text": [
      "/home/azim/.local/lib/python3.6/site-packages/numpy/core/_asarray.py:85: ComplexWarning: Casting complex values to real discards the imaginary part\n",
      "  return array(a, dtype, copy=False, order=order)\n",
      "/home/azim/.local/lib/python3.6/site-packages/numpy/core/_asarray.py:85: ComplexWarning: Casting complex values to real discards the imaginary part\n",
      "  return array(a, dtype, copy=False, order=order)\n",
      "/home/azim/.local/lib/python3.6/site-packages/numpy/core/_asarray.py:85: ComplexWarning: Casting complex values to real discards the imaginary part\n",
      "  return array(a, dtype, copy=False, order=order)\n",
      "/home/azim/.local/lib/python3.6/site-packages/matplotlib/text.py:1150: FutureWarning: elementwise comparison failed; returning scalar instead, but in the future will perform elementwise comparison\n",
      "  if s != self._text:\n"
     ]
    },
    {
     "data": {
      "image/png": "[encoded data removed]",
      "text/plain": [
       "<Figure size 432x288 with 1 Axes>"
      ]
     },
     "metadata": {
      "needs_background": "light"
     },
     "output_type": "display_data"
    },
    {
     "name": "stderr",
     "output_type": "stream",
     "text": [
      "/home/azim/.local/lib/python3.6/site-packages/numpy/core/_asarray.py:85: ComplexWarning: Casting complex values to real discards the imaginary part\n",
      "  return array(a, dtype, copy=False, order=order)\n",
      "/home/azim/.local/lib/python3.6/site-packages/numpy/core/_asarray.py:85: ComplexWarning: Casting complex values to real discards the imaginary part\n",
      "  return array(a, dtype, copy=False, order=order)\n",
      "/home/azim/.local/lib/python3.6/site-packages/numpy/core/_asarray.py:85: ComplexWarning: Casting complex values to real discards the imaginary part\n",
      "  return array(a, dtype, copy=False, order=order)\n",
      "/home/azim/.local/lib/python3.6/site-packages/matplotlib/text.py:1150: FutureWarning: elementwise comparison failed; returning scalar instead, but in the future will perform elementwise comparison\n",
      "  if s != self._text:\n"
     ]
    },
    {
     "data": {
      "image/png": "[encoded data removed]",
      "text/plain": [
       "<Figure size 432x288 with 1 Axes>"
      ]
     },
     "metadata": {
      "needs_background": "light"
     },
     "output_type": "display_data"
    },
    {
     "name": "stderr",
     "output_type": "stream",
     "text": [
      "/home/azim/.local/lib/python3.6/site-packages/numpy/core/_asarray.py:85: ComplexWarning: Casting complex values to real discards the imaginary part\n",
      "  return array(a, dtype, copy=False, order=order)\n",
      "/home/azim/.local/lib/python3.6/site-packages/numpy/core/_asarray.py:85: ComplexWarning: Casting complex values to real discards the imaginary part\n",
      "  return array(a, dtype, copy=False, order=order)\n",
      "/home/azim/.local/lib/python3.6/site-packages/numpy/core/_asarray.py:85: ComplexWarning: Casting complex values to real discards the imaginary part\n",
      "  return array(a, dtype, copy=False, order=order)\n",
      "/home/azim/.local/lib/python3.6/site-packages/matplotlib/text.py:1150: FutureWarning: elementwise comparison failed; returning scalar instead, but in the future will perform elementwise comparison\n",
      "  if s != self._text:\n"
     ]
    },
    {
     "data": {
      "image/png": "[encoded data removed]",
      "text/plain": [
       "<Figure size 432x288 with 1 Axes>"
      ]
     },
     "metadata": {
      "needs_background": "light"
     },
     "output_type": "display_data"
    },
    {
     "name": "stderr",
     "output_type": "stream",
     "text": [
      "/home/azim/.local/lib/python3.6/site-packages/numpy/core/_asarray.py:85: ComplexWarning: Casting complex values to real discards the imaginary part\n",
      "  return array(a, dtype, copy=False, order=order)\n",
      "/home/azim/.local/lib/python3.6/site-packages/numpy/core/_asarray.py:85: ComplexWarning: Casting complex values to real discards the imaginary part\n",
      "  return array(a, dtype, copy=False, order=order)\n",
      "/home/azim/.local/lib/python3.6/site-packages/numpy/core/_asarray.py:85: ComplexWarning: Casting complex values to real discards the imaginary part\n",
      "  return array(a, dtype, copy=False, order=order)\n",
      "/home/azim/.local/lib/python3.6/site-packages/matplotlib/text.py:1150: FutureWarning: elementwise comparison failed; returning scalar instead, but in the future will perform elementwise comparison\n",
      "  if s != self._text:\n"
     ]
    },
    {
     "data": {
      "image/png": "[encoded data removed]",
      "text/plain": [
       "<Figure size 432x288 with 1 Axes>"
      ]
     },
     "metadata": {
      "needs_background": "light"
     },
     "output_type": "display_data"
    },
    {
     "ename": "KeyboardInterrupt",
     "evalue": "",
     "output_type": "error",
     "traceback": [
      "\u001b[0;31m---------------------------------------------------------------------------\u001b[0m",
      "\u001b[0;31mKeyboardInterrupt\u001b[0m                         Traceback (most recent call last)",
      "\u001b[0;32m<ipython-input-41-9faff9ca50e9>\u001b[0m in \u001b[0;36m<module>\u001b[0;34m\u001b[0m\n\u001b[1;32m     14\u001b[0m         d_loss = discriminator_train_step(len(real_images), discriminator,\n\u001b[1;32m     15\u001b[0m                                           \u001b[0mgenerator\u001b[0m\u001b[0;34m,\u001b[0m \u001b[0md_optimizer\u001b[0m\u001b[0;34m,\u001b[0m \u001b[0mcriterion\u001b[0m\u001b[0;34m,\u001b[0m\u001b[0;34m\u001b[0m\u001b[0;34m\u001b[0m\u001b[0m\n\u001b[0;32m---> 16\u001b[0;31m                                           real_images, labels)\n\u001b[0m\u001b[1;32m     17\u001b[0m \u001b[0;34m\u001b[0m\u001b[0m\n\u001b[1;32m     18\u001b[0m \u001b[0;34m\u001b[0m\u001b[0m\n",
      "\u001b[0;32m<ipython-input-40-284def995bea>\u001b[0m in \u001b[0;36mdiscriminator_train_step\u001b[0;34m(batch_size, discriminator, generator, d_optimizer, criterion, real_images, labels)\u001b[0m\n\u001b[1;32m     30\u001b[0m     \u001b[0;31m#     print(real_loss,fake_loss)\u001b[0m\u001b[0;34m\u001b[0m\u001b[0;34m\u001b[0m\u001b[0;34m\u001b[0m\u001b[0m\n\u001b[1;32m     31\u001b[0m     \u001b[0;31m#     d_loss = real_loss + fake_loss\u001b[0m\u001b[0;34m\u001b[0m\u001b[0;34m\u001b[0m\u001b[0;34m\u001b[0m\u001b[0m\n\u001b[0;32m---> 32\u001b[0;31m         \u001b[0mfake_loss\u001b[0m\u001b[0;34m.\u001b[0m\u001b[0mbackward\u001b[0m\u001b[0;34m(\u001b[0m\u001b[0;34m)\u001b[0m\u001b[0;34m\u001b[0m\u001b[0;34m\u001b[0m\u001b[0m\n\u001b[0m\u001b[1;32m     33\u001b[0m         \u001b[0mtorch\u001b[0m\u001b[0;34m.\u001b[0m\u001b[0mnn\u001b[0m\u001b[0;34m.\u001b[0m\u001b[0mutils\u001b[0m\u001b[0;34m.\u001b[0m\u001b[0mclip_grad_norm_\u001b[0m\u001b[0;34m(\u001b[0m\u001b[0mdiscriminator\u001b[0m\u001b[0;34m.\u001b[0m\u001b[0mparameters\u001b[0m\u001b[0;34m(\u001b[0m\u001b[0;34m)\u001b[0m\u001b[0;34m,\u001b[0m \u001b[0;36m1\u001b[0m\u001b[0;34m)\u001b[0m\u001b[0;34m\u001b[0m\u001b[0;34m\u001b[0m\u001b[0m\n\u001b[1;32m     34\u001b[0m         \u001b[0md_optimizer\u001b[0m\u001b[0;34m.\u001b[0m\u001b[0mstep\u001b[0m\u001b[0;34m(\u001b[0m\u001b[0;34m)\u001b[0m\u001b[0;34m\u001b[0m\u001b[0;34m\u001b[0m\u001b[0m\n",
      "\u001b[0;32m/usr/lib/python3/dist-packages/torch/tensor.py\u001b[0m in \u001b[0;36mbackward\u001b[0;34m(self, gradient, retain_graph, create_graph)\u001b[0m\n\u001b[1;32m    148\u001b[0m                 \u001b[0mproducts\u001b[0m\u001b[0;34m.\u001b[0m \u001b[0mDefaults\u001b[0m \u001b[0mto\u001b[0m\u001b[0;31m \u001b[0m\u001b[0;31m`\u001b[0m\u001b[0;31m`\u001b[0m\u001b[0;32mFalse\u001b[0m\u001b[0;31m`\u001b[0m\u001b[0;31m`\u001b[0m\u001b[0;34m.\u001b[0m\u001b[0;34m\u001b[0m\u001b[0;34m\u001b[0m\u001b[0m\n\u001b[1;32m    149\u001b[0m         \"\"\"\n\u001b[0;32m--> 150\u001b[0;31m         \u001b[0mtorch\u001b[0m\u001b[0;34m.\u001b[0m\u001b[0mautograd\u001b[0m\u001b[0;34m.\u001b[0m\u001b[0mbackward\u001b[0m\u001b[0;34m(\u001b[0m\u001b[0mself\u001b[0m\u001b[0;34m,\u001b[0m \u001b[0mgradient\u001b[0m\u001b[0;34m,\u001b[0m \u001b[0mretain_graph\u001b[0m\u001b[0;34m,\u001b[0m \u001b[0mcreate_graph\u001b[0m\u001b[0;34m)\u001b[0m\u001b[0;34m\u001b[0m\u001b[0;34m\u001b[0m\u001b[0m\n\u001b[0m\u001b[1;32m    151\u001b[0m \u001b[0;34m\u001b[0m\u001b[0m\n\u001b[1;32m    152\u001b[0m     \u001b[0;32mdef\u001b[0m \u001b[0mregister_hook\u001b[0m\u001b[0;34m(\u001b[0m\u001b[0mself\u001b[0m\u001b[0;34m,\u001b[0m \u001b[0mhook\u001b[0m\u001b[0;34m)\u001b[0m\u001b[0;34m:\u001b[0m\u001b[0;34m\u001b[0m\u001b[0;34m\u001b[0m\u001b[0m\n",
      "\u001b[0;32m/usr/lib/python3/dist-packages/torch/autograd/__init__.py\u001b[0m in \u001b[0;36mbackward\u001b[0;34m(tensors, grad_tensors, retain_graph, create_graph, grad_variables)\u001b[0m\n\u001b[1;32m     97\u001b[0m     Variable._execution_engine.run_backward(\n\u001b[1;32m     98\u001b[0m         \u001b[0mtensors\u001b[0m\u001b[0;34m,\u001b[0m \u001b[0mgrad_tensors\u001b[0m\u001b[0;34m,\u001b[0m \u001b[0mretain_graph\u001b[0m\u001b[0;34m,\u001b[0m \u001b[0mcreate_graph\u001b[0m\u001b[0;34m,\u001b[0m\u001b[0;34m\u001b[0m\u001b[0;34m\u001b[0m\u001b[0m\n\u001b[0;32m---> 99\u001b[0;31m         allow_unreachable=True)  # allow_unreachable flag\n\u001b[0m\u001b[1;32m    100\u001b[0m \u001b[0;34m\u001b[0m\u001b[0m\n\u001b[1;32m    101\u001b[0m \u001b[0;34m\u001b[0m\u001b[0m\n",
      "\u001b[0;31mKeyboardInterrupt\u001b[0m: "
     ]
    }
   ],
   "source": [
    "num_epochs = 500\n",
    "n_critic = 5\n",
    "display_step = 50\n",
    "for epoch in range(num_epochs):\n",
    "    print('Starting epoch {}...'.format(epoch), end=' ')\n",
    "    for i, (images, labels) in enumerate(data_loader):\n",
    "#         print(images.shape,labels.shape)\n",
    "        \n",
    "        step = epoch * len(data_loader) + i + 1\n",
    "        real_images = Variable(images).cuda()\n",
    "        labels = Variable(labels).cuda()\n",
    "        generator.train()\n",
    "        \n",
    "        d_loss = discriminator_train_step(len(real_images), discriminator,\n",
    "                                          generator, d_optimizer, criterion,\n",
    "                                          real_images, labels)\n",
    "        \n",
    "\n",
    "        g_loss = generator_train_step(batch_size, discriminator, generator, g_optimizer, criterion)\n",
    "#         print(d_loss)\n",
    "#         print(d_loss)\n",
    "        if epoch%5==0 and i%100==0:\n",
    "            z = Variable(torch.randn(5, 100)).cuda()\n",
    "            a = np.random.randint(0, 5, 5)\n",
    "            b = np.zeros((a.size, 4+1))\n",
    "            b[np.arange(a.size),a] = 1\n",
    "            labels = torch.LongTensor(b).cuda()\n",
    "\n",
    "            generator.eval()\n",
    "            x_pred = generator(z, labels).unsqueeze(1).cpu().detach().numpy()*max_value\n",
    "            labels = labels.cpu().detach().numpy()\n",
    "\n",
    "            print(x_pred.shape)\n",
    "            x_pred = x_pred.reshape(-1,256,6)\n",
    "            print(x_pred.max())\n",
    "            import matplotlib.pyplot as plt\n",
    "            %matplotlib inline\n",
    "            for k in range(5):\n",
    "                plt.figure()\n",
    "                plt.plot(np.fft.ifft(x_pred[k][:,0]+1j*x_pred[k][:,3]))\n",
    "                plt.plot(np.fft.ifft(x_pred[k][:,1]+1j*x_pred[k][:,4]))\n",
    "                plt.plot(np.fft.ifft(x_pred[k][:,2]+1j*x_pred[k][:,5]))\n",
    "                plt.title(labels[k])\n",
    "                plt.show()\n",
    "            #         print(d_loss,g_loss)"
   ]
  },
  {
   "cell_type": "code",
   "execution_count": null,
   "metadata": {},
   "outputs": [],
   "source": [
    "z = Variable(torch.randn(5, 100)).cuda()\n",
    "a = np.random.randint(0, 5, 5)\n",
    "b = np.zeros((a.size, 4+1))\n",
    "b[np.arange(a.size),a] = 1\n",
    "labels = torch.LongTensor(b).cuda()\n",
    "print(z.shape,labels.shape)\n",
    "# generator.eval()\n",
    "# x_pred = generator(z, labels).unsqueeze(1).cpu().detach().numpy()*max_value\n",
    "# labels = labels.cpu().detach().numpy()\n",
    "\n",
    "# print(x_pred.shape)\n",
    "# x_pred = x_pred.reshape(-1,256,6)\n",
    "\n",
    "# import matplotlib.pyplot as plt\n",
    "# %matplotlib inline\n",
    "# for k in range(5):\n",
    "#     plt.figure()\n",
    "#     plt.plot(np.fft.ifft(x_pred[k][:,0]+1j*x_pred[k][:,3]))\n",
    "#     plt.plot(np.fft.ifft(x_pred[k][:,1]+1j*x_pred[k][:,4]))\n",
    "#     plt.plot(np.fft.ifft(x_pred[k][:,2]+1j*x_pred[k][:,5]))\n",
    "#     plt.title(labels[k])\n",
    "#     plt.show()"
   ]
  },
  {
   "cell_type": "code",
   "execution_count": null,
   "metadata": {},
   "outputs": [],
   "source": [
    "z = Variable(torch.randn(50, 100)).cuda()\n",
    "labels = torch.LongTensor([i for i in range(5) for _ in range(10)]).cuda()\n",
    "\n",
    "generator.eval()\n",
    "x_pred = generator(z, labels).unsqueeze(1).cpu().detach().numpy()*max_value\n",
    "labels = labels.cpu().detach().numpy()\n",
    "\n",
    "print(x_pred.shape)\n",
    "x_pred = x_pred.reshape(-1,256,6)\n",
    "\n",
    "import matplotlib.pyplot as plt\n",
    "%matplotlib inline\n",
    "for k in range(50):\n",
    "    plt.figure()\n",
    "    plt.plot(np.fft.ifft(x_pred[k][:,0]+1j*x_pred[k][:,3]))\n",
    "    plt.plot(np.fft.ifft(x_pred[k][:,1]+1j*x_pred[k][:,4]))\n",
    "    plt.plot(np.fft.ifft(x_pred[k][:,2]+1j*x_pred[k][:,5]))\n",
    "    plt.title(labels[k])\n",
    "    plt.show()"
   ]
  },
  {
   "cell_type": "code",
   "execution_count": null,
   "metadata": {},
   "outputs": [],
   "source": [
    "generator.label_emb.weight.cpu().detach().numpy()"
   ]
  },
  {
   "cell_type": "code",
   "execution_count": null,
   "metadata": {},
   "outputs": [],
   "source": [
    "fake_labels = "
   ]
  },
  {
   "cell_type": "code",
   "execution_count": null,
   "metadata": {},
   "outputs": [],
   "source": [
    "a = fake_labels\n",
    "\n",
    "a,b"
   ]
  },
  {
   "cell_type": "code",
   "execution_count": null,
   "metadata": {},
   "outputs": [],
   "source": []
  },
  {
   "cell_type": "code",
   "execution_count": null,
   "metadata": {},
   "outputs": [],
   "source": [
    "torch.LongTensor(fake_labels)"
   ]
  },
  {
   "cell_type": "code",
   "execution_count": null,
   "metadata": {},
   "outputs": [],
   "source": [
    "max_value"
   ]
  },
  {
   "cell_type": "code",
   "execution_count": null,
   "metadata": {},
   "outputs": [],
   "source": [
    "X_fft.min()"
   ]
  },
  {
   "cell_type": "code",
   "execution_count": null,
   "metadata": {},
   "outputs": [],
   "source": []
  }
 ],
 "metadata": {
  "kernelspec": {
   "display_name": "Python 3",
   "language": "python",
   "name": "python3"
  },
  "language_info": {
   "codemirror_mode": {
    "name": "ipython",
    "version": 3
   },
   "file_extension": ".py",
   "mimetype": "text/x-python",
   "name": "python",
   "nbconvert_exporter": "python",
   "pygments_lexer": "ipython3",
   "version": "3.6.9"
  }
 },
 "nbformat": 4,
 "nbformat_minor": 2
}
