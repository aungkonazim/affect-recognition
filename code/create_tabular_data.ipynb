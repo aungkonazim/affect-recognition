{
 "cells": [
  {
   "cell_type": "code",
   "execution_count": 1,
   "metadata": {},
   "outputs": [],
   "source": [
    "import pickle\n",
    "import os\n",
    "import numpy as np\n",
    "from datetime import datetime\n",
    "import pandas as pd\n",
    "import matplotlib.pyplot as plt\n",
    "from ecgdetectors import Detectors\n",
    "from scipy import signal\n",
    "from scipy.stats import skew,kurtosis,iqr"
   ]
  },
  {
   "cell_type": "code",
   "execution_count": 2,
   "metadata": {},
   "outputs": [],
   "source": [
    "filelists = ['../../affect-recognition/data/8d/'+a for a in os.listdir('../../affect-recognition/data/8d/') if a[-1] not in ['s','f']]"
   ]
  },
  {
   "cell_type": "code",
   "execution_count": 3,
   "metadata": {},
   "outputs": [
    {
     "data": {
      "text/plain": [
       "'../../affect-recognition/data/8d/S11.pkl'"
      ]
     },
     "execution_count": 3,
     "metadata": {},
     "output_type": "execute_result"
    }
   ],
   "source": [
    "filelists[0]"
   ]
  },
  {
   "cell_type": "code",
   "execution_count": 9,
   "metadata": {},
   "outputs": [
    {
     "name": "stdout",
     "output_type": "stream",
     "text": [
      "(4519, 256, 3) (4519, 512) (4519, 512, 4) (4519, 1) 4519 (4519, 5590, 1)\n",
      "(4570, 256, 3) (4570, 512) (4570, 512, 4) (4570, 1) 9089 (4570, 5590, 1)\n",
      "(3965, 256, 3) (3965, 512) (3965, 512, 4) (3965, 1) 13054 (3965, 5590, 1)\n",
      "(4366, 256, 3) (4366, 512) (4366, 512, 4) (4366, 1) 17420 (4366, 5590, 1)\n",
      "(4667, 256, 3) (4667, 512) (4667, 512, 4) (4667, 1) 22087 (4667, 5590, 1)\n",
      "(3952, 256, 3) (3952, 512) (3952, 512, 4) (3952, 1) 26039 (3952, 5590, 1)\n",
      "(2620, 256, 3) (2620, 512) (2620, 512, 4) (2620, 1) 28659 (2620, 5590, 1)\n",
      "(4563, 256, 3) (4563, 512) (4563, 512, 4) (4563, 1) 33222 (4563, 5590, 1)\n",
      "(5319, 256, 3) (5319, 512) (5319, 512, 4) (5319, 1) 38541 (5319, 5590, 1)\n",
      "(4648, 256, 3) (4648, 512) (4648, 512, 4) (4648, 1) 43189 (4648, 5590, 1)\n",
      "(4275, 256, 3) (4275, 512) (4275, 512, 4) (4275, 1) 47464 (4275, 5590, 1)\n",
      "(4035, 256, 3) (4035, 512) (4035, 512, 4) (4035, 1) 51499 (4035, 5590, 1)\n",
      "(4098, 256, 3) (4098, 512) (4098, 512, 4) (4098, 1) 55597 (4098, 5590, 1)\n",
      "(4474, 256, 3) (4474, 512) (4474, 512, 4) (4474, 1) 60071 (4474, 5590, 1)\n",
      "(4601, 256, 3) (4601, 512) (4601, 512, 4) (4601, 1) 64672 (4601, 5590, 1)\n"
     ]
    }
   ],
   "source": [
    "from sklearn.preprocessing import RobustScaler\n",
    "from scipy.stats import mode\n",
    "activity_dict = {0:'No Label',\n",
    "                1:'Sitting',\n",
    "                2:'Stairs',\n",
    "                3:'Soccer',\n",
    "                4:'Cycling',\n",
    "                5:'Driving',\n",
    "                6:'Lunch',\n",
    "                7:'Walking',\n",
    "                8:'Working'}\n",
    "X_acc = []\n",
    "X_ppg = []\n",
    "X_qual = []\n",
    "X_respiration = []\n",
    "y_rr = []\n",
    "y_inspiration = []\n",
    "y_expiration = []\n",
    "y_respiration = []\n",
    "y_activity = []\n",
    "y_label = []\n",
    "groups = []\n",
    "for i in range(len(filelists)):\n",
    "    data = pickle.load(open(filelists[i],'rb'))\n",
    "#     print(data['acc_window'].loc[0].shape)\n",
    "    data['shape'] = data['acc_window'].apply(lambda a:a.shape[0])\n",
    "    data = data[data['shape']==256]\n",
    "    data['acc_window'] = data['acc_window'].apply(lambda a:a[:,1:])\n",
    "    data['data'] = data['data'].apply(lambda a:a.values[:,1:])\n",
    "#     data['shape'] = data['acc_window'].apply(lambda a:a.shape)\n",
    "    data['shape'] = data['data'].apply(lambda a:a.shape[0])\n",
    "    data = data[data['shape']==512]\n",
    "#     print(data.shape)\n",
    "    data['shape'] = data['respiration'].apply(lambda a:a.shape[0])\n",
    "#     print(data['shape'].unique())\n",
    "    data['activity'] = data['activity'].apply(lambda a:mode(list(a))[0][0])\n",
    "#     data['activity_label'] = data['activity'].apply(lambda a:activity_dict[a])\n",
    "    acc_windows = np.array(list(data['acc_window']))\n",
    "    ppg_windows = np.array(list(data['data']))\n",
    "    respiration_windows = np.array(list(data['respiration']))\n",
    "    ppg_data = ppg_windows[:,:,:1].reshape(-1,512)\n",
    "    ppg_qual_data = ppg_windows[:,:,1:]\n",
    "    ecg_rr = np.array(list(data['ecg_rr'])).reshape(-1,1)\n",
    "    inspiration = np.array(list(data['inspiration_duration'])).reshape(-1,1)\n",
    "    expiration = np.array(list(data['expiration_duration'])).reshape(-1,1)\n",
    "    respiration = np.array(list(data['respiration_duration'])).reshape(-1,1)\n",
    "    X_ppg.append(ppg_data)\n",
    "    X_acc.append(acc_windows)\n",
    "    X_qual.append(ppg_qual_data)\n",
    "    X_respiration.append(respiration_windows)\n",
    "    y_rr.append(ecg_rr)\n",
    "    y_activity.append(np.array(list(data['activity'])).reshape(-1,1))\n",
    "    y_label.append(np.array(list(data['hr'])).reshape(-1,1))\n",
    "    y_inspiration.append(inspiration)\n",
    "    y_expiration.append(expiration)\n",
    "    y_respiration.append(respiration)\n",
    "    groups += [i]*ecg_rr.shape[0]\n",
    "    print(acc_windows.shape,ppg_data.shape,ppg_qual_data.shape,ecg_rr.shape,len(groups),respiration_windows.shape)"
   ]
  },
  {
   "cell_type": "code",
   "execution_count": 10,
   "metadata": {},
   "outputs": [],
   "source": [
    "X_ppg,X_qual,X_respiration,X_acc,y_rr, y_respiration,y_inspiration,y_expiration = np.concatenate(X_ppg),np.concatenate(X_qual), \\\n",
    "                                        np.concatenate(X_respiration),np.concatenate(X_acc),np.concatenate(y_rr), \\\n",
    "                                        np.concatenate(y_respiration),np.concatenate(y_inspiration), \\\n",
    "                                        np.concatenate(y_expiration)\n",
    "y_activity,y_label = np.concatenate(y_activity),np.concatenate(y_label)\n",
    "groups = np.array(groups)"
   ]
  },
  {
   "cell_type": "code",
   "execution_count": 13,
   "metadata": {},
   "outputs": [],
   "source": [
    "pickle.dump([X_ppg,X_qual,X_acc,y_rr, y_respiration,y_inspiration,y_expiration,groups,X_respiration,y_activity,y_label],open('../../affect-recognition/data/tabular_data_8.p','wb'))"
   ]
  },
  {
   "cell_type": "code",
   "execution_count": 12,
   "metadata": {},
   "outputs": [
    {
     "data": {
      "text/plain": [
       "(array([ 2000., 10443., 19892., 15226.,  7782.,  4936.,  2597.,  1169.,\n",
       "          482.,   145.]),\n",
       " array([ 41.69085059,  56.22330807,  70.75576554,  85.28822302,\n",
       "         99.82068049, 114.35313797, 128.88559544, 143.41805292,\n",
       "        157.95051039, 172.48296787, 187.01542534]),\n",
       " <a list of 10 Patch objects>)"
      ]
     },
     "execution_count": 12,
     "metadata": {},
     "output_type": "execute_result"
    },
    {
     "data": {
      "image/png": "[encoded data removed]",
      "text/plain": [
       "<Figure size 432x288 with 1 Axes>"
      ]
     },
     "metadata": {
      "needs_background": "light"
     },
     "output_type": "display_data"
    }
   ],
   "source": [
    "plt.hist(60000/(1000*y_rr))\n",
    "plt.hist(y_label)"
   ]
  },
  {
   "cell_type": "code",
   "execution_count": 56,
   "metadata": {},
   "outputs": [
    {
     "data": {
      "text/plain": [
       "array([[0.63978023],\n",
       "       [0.64678572],\n",
       "       [0.66607141],\n",
       "       ...,\n",
       "       [0.68619049],\n",
       "       [0.75185714],\n",
       "       [0.64362638]])"
      ]
     },
     "execution_count": 56,
     "metadata": {},
     "output_type": "execute_result"
    }
   ],
   "source": [
    "y_rr"
   ]
  },
  {
   "cell_type": "code",
   "execution_count": null,
   "metadata": {},
   "outputs": [],
   "source": []
  }
 ],
 "metadata": {
  "kernelspec": {
   "display_name": "Python 3",
   "language": "python",
   "name": "python3"
  },
  "language_info": {
   "codemirror_mode": {
    "name": "ipython",
    "version": 3
   },
   "file_extension": ".py",
   "mimetype": "text/x-python",
   "name": "python",
   "nbconvert_exporter": "python",
   "pygments_lexer": "ipython3",
   "version": "3.6.9"
  }
 },
 "nbformat": 4,
 "nbformat_minor": 2
}
