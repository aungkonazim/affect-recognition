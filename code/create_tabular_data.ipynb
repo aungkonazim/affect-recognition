{
 "cells": [
  {
   "cell_type": "code",
   "execution_count": 2,
   "metadata": {},
   "outputs": [],
   "source": [
    "import pickle\n",
    "import os\n",
    "import numpy as np\n",
    "from datetime import datetime\n",
    "import pandas as pd\n",
    "import matplotlib.pyplot as plt\n",
    "from ecgdetectors import Detectors\n",
    "from scipy import signal\n",
    "from scipy.stats import skew,kurtosis,iqr"
   ]
  },
  {
   "cell_type": "code",
   "execution_count": 3,
   "metadata": {},
   "outputs": [],
   "source": [
    "filelists = ['../../affect-recognition/data/8/'+a for a in os.listdir('../../affect-recognition/data/8/') if a[-1] not in ['s','f']]"
   ]
  },
  {
   "cell_type": "code",
   "execution_count": 4,
   "metadata": {},
   "outputs": [
    {
     "data": {
      "text/plain": [
       "'../../affect-recognition/data/8/S11.pkl'"
      ]
     },
     "execution_count": 4,
     "metadata": {},
     "output_type": "execute_result"
    }
   ],
   "source": [
    "filelists[0]"
   ]
  },
  {
   "cell_type": "code",
   "execution_count": 42,
   "metadata": {},
   "outputs": [
    {
     "name": "stdout",
     "output_type": "stream",
     "text": [
      "(653, 256, 3) (653, 512) (653, 512, 4) (653, 1)\n",
      "(802, 256, 3) (802, 512) (802, 512, 4) (802, 1)\n",
      "(655, 256, 3) (655, 512) (655, 512, 4) (655, 1)\n",
      "(811, 256, 3) (811, 512) (811, 512, 4) (811, 1)\n",
      "(654, 256, 3) (654, 512) (654, 512, 4) (654, 1)\n",
      "(883, 256, 3) (883, 512) (883, 512, 4) (883, 1)\n",
      "(739, 256, 3) (739, 512) (739, 512, 4) (739, 1)\n",
      "(691, 256, 3) (691, 512) (691, 512, 4) (691, 1)\n",
      "(685, 256, 3) (685, 512) (685, 512, 4) (685, 1)\n",
      "(781, 256, 3) (781, 512) (781, 512, 4) (781, 1)\n",
      "(702, 256, 3) (702, 512) (702, 512, 4) (702, 1)\n",
      "(652, 256, 3) (652, 512) (652, 512, 4) (652, 1)\n",
      "(682, 256, 3) (682, 512) (682, 512, 4) (682, 1)\n",
      "(759, 256, 3) (759, 512) (759, 512, 4) (759, 1)\n",
      "(692, 256, 3) (692, 512) (692, 512, 4) (692, 1)\n"
     ]
    }
   ],
   "source": [
    "X_acc = []\n",
    "X_ppg = []\n",
    "X_qual = []\n",
    "y_rr = []\n",
    "y_inspiration = []\n",
    "y_expiration = []\n",
    "y_respiration = []\n",
    "groups = []\n",
    "for i in range(len(filelists)):\n",
    "    data = pickle.load(open(filelists[i],'rb'))\n",
    "    data['acc_window'] = data['acc_window'].apply(lambda a:a[:,1:] if a.shape[0]==256 else np.concatenate([a[:,1:],np.mean(a[:,1:],axis=0).reshape(-1,3)],axis=0))\n",
    "    data['data'] = data['data'].apply(lambda a:a.values[:,1:])\n",
    "    data['shape'] = data['data'].apply(lambda a:a.shape)\n",
    "    acc_windows = np.array(list(data['acc_window']))\n",
    "    ppg_windows = np.array(list(data['data']))\n",
    "    ppg_data = ppg_windows[:,:,:1].reshape(-1,512)\n",
    "    ppg_qual_data = ppg_windows[:,:,1:]\n",
    "    ecg_rr = np.array(list(data['ecg_rr'])).reshape(-1,1)\n",
    "    inspiration = np.array(list(data['inspiration_duration'])).reshape(-1,1)\n",
    "    expiration = np.array(list(data['expiration_duration'])).reshape(-1,1)\n",
    "    respiration = np.array(list(data['respiration_duration'])).reshape(-1,1)\n",
    "    X_ppg.append(ppg_data)\n",
    "    X_acc.append(acc_windows)\n",
    "    X_qual.append(ppg_qual_data)\n",
    "    y_rr.append(ecg_rr)\n",
    "    y_inspiration.append(inspiration)\n",
    "    y_expiration.append(expiration)\n",
    "    y_respiration.append(respiration)\n",
    "    groups.extend([i]*len(y_rr))\n",
    "    print(acc_windows.shape,ppg_data.shape,ppg_qual_data.shape,ecg_rr.shape)"
   ]
  },
  {
   "cell_type": "code",
   "execution_count": 43,
   "metadata": {},
   "outputs": [],
   "source": [
    "X_ppg,X_qual,X_acc,y_rr, y_respiration,y_inspiration,y_expiration = np.concatenate(X_ppg),np.concatenate(X_qual), \\\n",
    "                                        np.concatenate(X_acc),np.concatenate(y_rr), \\\n",
    "                                        np.concatenate(y_respiration),np.concatenate(y_inspiration), \\\n",
    "                                        np.concatenate(y_expiration)\n",
    "groups = np.array(groups)"
   ]
  },
  {
   "cell_type": "code",
   "execution_count": 44,
   "metadata": {},
   "outputs": [],
   "source": [
    "pickle.dump([X_ppg,X_qual,X_acc,y_rr, y_respiration,y_inspiration,y_expiration,groups],open('../../affect-recognition/data/tabular_data.p','wb'))"
   ]
  },
  {
   "cell_type": "code",
   "execution_count": 45,
   "metadata": {},
   "outputs": [
    {
     "data": {
      "text/plain": [
       "(array([ 257.,  532., 1297., 2448., 2863., 2026.,  888.,  370.,  140.,\n",
       "          20.]),\n",
       " array([0.38621429, 0.48461667, 0.58301905, 0.68142142, 0.7798238 ,\n",
       "        0.87822618, 0.97662856, 1.07503093, 1.17343331, 1.27183569,\n",
       "        1.37023807]),\n",
       " <a list of 10 Patch objects>)"
      ]
     },
     "execution_count": 45,
     "metadata": {},
     "output_type": "execute_result"
    },
    {
     "data": {
      "image/png": "[encoded data removed]",
      "text/plain": [
       "<Figure size 432x288 with 1 Axes>"
      ]
     },
     "metadata": {
      "needs_background": "light"
     },
     "output_type": "display_data"
    }
   ],
   "source": [
    "plt.hist(y_rr)"
   ]
  },
  {
   "cell_type": "code",
   "execution_count": null,
   "metadata": {},
   "outputs": [],
   "source": []
  }
 ],
 "metadata": {
  "kernelspec": {
   "display_name": "Python 3",
   "language": "python",
   "name": "python3"
  },
  "language_info": {
   "codemirror_mode": {
    "name": "ipython",
    "version": 3
   },
   "file_extension": ".py",
   "mimetype": "text/x-python",
   "name": "python",
   "nbconvert_exporter": "python",
   "pygments_lexer": "ipython3",
   "version": "3.6.9"
  }
 },
 "nbformat": 4,
 "nbformat_minor": 2
}
