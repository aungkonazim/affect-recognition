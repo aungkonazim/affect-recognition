{
 "cells": [
  {
   "cell_type": "code",
   "execution_count": 14,
   "metadata": {},
   "outputs": [],
   "source": [
    "import pickle\n",
    "import os\n",
    "import numpy as np\n",
    "from datetime import datetime\n",
    "import pandas as pd\n",
    "import matplotlib.pyplot as plt\n",
    "from ecgdetectors import Detectors\n",
    "from scipy import signal\n",
    "from scipy.stats import skew,kurtosis,iqr"
   ]
  },
  {
   "cell_type": "code",
   "execution_count": 15,
   "metadata": {},
   "outputs": [],
   "source": [
    "filelists = ['../../affect-recognition/data/4/'+a for a in os.listdir('../../affect-recognition/data/4/') if a[-1] not in ['s','f']]"
   ]
  },
  {
   "cell_type": "code",
   "execution_count": 16,
   "metadata": {},
   "outputs": [
    {
     "data": {
      "text/plain": [
       "'../../affect-recognition/data/4/S11.pkl'"
      ]
     },
     "execution_count": 16,
     "metadata": {},
     "output_type": "execute_result"
    }
   ],
   "source": [
    "filelists[0]"
   ]
  },
  {
   "cell_type": "code",
   "execution_count": 22,
   "metadata": {},
   "outputs": [
    {
     "name": "stdout",
     "output_type": "stream",
     "text": [
      "(5227, 128, 3) (5227, 256) (5227, 256, 4) (5227, 1) 5227 (5227, 2790, 1)\n",
      "(6417, 128, 3) (6417, 256) (6417, 256, 4) (6417, 1) 11644 (6417, 2790, 1)\n",
      "(5246, 128, 3) (5246, 256) (5246, 256, 4) (5246, 1) 16890 (5246, 2790, 1)\n",
      "(6487, 128, 3) (6487, 256) (6487, 256, 4) (6487, 1) 23377 (6487, 2790, 1)\n",
      "(5232, 128, 3) (5232, 256) (5232, 256, 4) (5232, 1) 28609 (5232, 2790, 1)\n",
      "(7065, 128, 3) (7065, 256) (7065, 256, 4) (7065, 1) 35674 (7065, 2790, 1)\n",
      "(5914, 128, 3) (5914, 256) (5914, 256, 4) (5914, 1) 41588 (5914, 2790, 1)\n",
      "(5531, 128, 3) (5531, 256) (5531, 256, 4) (5531, 1) 47119 (5531, 2790, 1)\n",
      "(5490, 128, 3) (5490, 256) (5490, 256, 4) (5490, 1) 52609 (5490, 2790, 1)\n",
      "(6252, 128, 3) (6252, 256) (6252, 256, 4) (6252, 1) 58861 (6252, 2790, 1)\n",
      "(5625, 128, 3) (5625, 256) (5625, 256, 4) (5625, 1) 64486 (5625, 2790, 1)\n",
      "(5217, 128, 3) (5217, 256) (5217, 256, 4) (5217, 1) 69703 (5217, 2790, 1)\n",
      "(5460, 128, 3) (5460, 256) (5460, 256, 4) (5460, 1) 75163 (5460, 2790, 1)\n",
      "(6073, 128, 3) (6073, 256) (6073, 256, 4) (6073, 1) 81236 (6073, 2790, 1)\n",
      "(5542, 128, 3) (5542, 256) (5542, 256, 4) (5542, 1) 86778 (5542, 2790, 1)\n"
     ]
    }
   ],
   "source": [
    "from sklearn.preprocessing import RobustScaler\n",
    "X_acc = []\n",
    "X_ppg = []\n",
    "X_qual = []\n",
    "X_respiration = []\n",
    "y_rr = []\n",
    "y_inspiration = []\n",
    "y_expiration = []\n",
    "y_respiration = []\n",
    "groups = []\n",
    "for i in range(len(filelists)):\n",
    "    data = pickle.load(open(filelists[i],'rb'))\n",
    "#     print(data['acc_window'].loc[0].shape)\n",
    "    \n",
    "    data['acc_window'] = data['acc_window'].apply(lambda a:a[:,1:] if a.shape[0]==128 else np.concatenate([a[:,1:],np.mean(a[:,1:],axis=0).reshape(-1,3)],axis=0))\n",
    "    data['data'] = data['data'].apply(lambda a:a.values[:,1:])\n",
    "    data['shape'] = data['acc_window'].apply(lambda a:a.shape)\n",
    "    \n",
    "#     print(data['shape'].unique())\n",
    "    acc_windows = np.array(list(data['acc_window']))\n",
    "    ppg_windows = np.array(list(data['data']))\n",
    "    respiration_windows = np.array(list(data['respiration']))\n",
    "    ppg_data = ppg_windows[:,:,:1].reshape(-1,256)\n",
    "    ppg_qual_data = ppg_windows[:,:,1:]\n",
    "    ecg_rr = np.array(list(data['ecg_rr'])).reshape(-1,1)\n",
    "    inspiration = np.array(list(data['inspiration_duration'])).reshape(-1,1)\n",
    "    expiration = np.array(list(data['expiration_duration'])).reshape(-1,1)\n",
    "    respiration = np.array(list(data['respiration_duration'])).reshape(-1,1)\n",
    "    X_ppg.append(ppg_data)\n",
    "    X_acc.append(acc_windows)\n",
    "    X_qual.append(ppg_qual_data)\n",
    "    X_respiration.append(respiration_windows)\n",
    "    y_rr.append(ecg_rr)\n",
    "    y_inspiration.append(inspiration)\n",
    "    y_expiration.append(expiration)\n",
    "    y_respiration.append(respiration)\n",
    "    groups += [i]*ecg_rr.shape[0]\n",
    "    print(acc_windows.shape,ppg_data.shape,ppg_qual_data.shape,ecg_rr.shape,len(groups),respiration_windows.shape)"
   ]
  },
  {
   "cell_type": "code",
   "execution_count": 23,
   "metadata": {},
   "outputs": [],
   "source": [
    "X_ppg,X_qual,X_respiration,X_acc,y_rr, y_respiration,y_inspiration,y_expiration = np.concatenate(X_ppg),np.concatenate(X_qual), \\\n",
    "                                        np.concatenate(X_respiration),np.concatenate(X_acc),np.concatenate(y_rr), \\\n",
    "                                        np.concatenate(y_respiration),np.concatenate(y_inspiration), \\\n",
    "                                        np.concatenate(y_expiration)\n",
    "groups = np.array(groups)"
   ]
  },
  {
   "cell_type": "code",
   "execution_count": 24,
   "metadata": {},
   "outputs": [],
   "source": [
    "pickle.dump([X_ppg,X_qual,X_acc,y_rr, y_respiration,y_inspiration,y_expiration,groups,X_respiration],open('../../affect-recognition/data/tabular_data_4.p','wb'))"
   ]
  },
  {
   "cell_type": "code",
   "execution_count": 13,
   "metadata": {},
   "outputs": [
    {
     "data": {
      "text/plain": [
       "(array([ 1779.,  9795., 15189.,  9299.,  3939.,  1382.,  1061.,   686.,\n",
       "          201.,    32.]),\n",
       " array([ 43.36155248,  54.99787083,  66.63418918,  78.27050752,\n",
       "         89.90682587, 101.54314422, 113.17946256, 124.81578091,\n",
       "        136.45209926, 148.08841761, 159.72473595]),\n",
       " <a list of 10 Patch objects>)"
      ]
     },
     "execution_count": 13,
     "metadata": {},
     "output_type": "execute_result"
    },
    {
     "data": {
      "image/png": "[encoded data removed]",
      "text/plain": [
       "<Figure size 432x288 with 1 Axes>"
      ]
     },
     "metadata": {
      "needs_background": "light"
     },
     "output_type": "display_data"
    }
   ],
   "source": [
    "plt.hist(60000/(1000*y_rr))"
   ]
  },
  {
   "cell_type": "code",
   "execution_count": 56,
   "metadata": {},
   "outputs": [
    {
     "data": {
      "text/plain": [
       "array([[0.63978023],\n",
       "       [0.64678572],\n",
       "       [0.66607141],\n",
       "       ...,\n",
       "       [0.68619049],\n",
       "       [0.75185714],\n",
       "       [0.64362638]])"
      ]
     },
     "execution_count": 56,
     "metadata": {},
     "output_type": "execute_result"
    }
   ],
   "source": [
    "y_rr"
   ]
  },
  {
   "cell_type": "code",
   "execution_count": null,
   "metadata": {},
   "outputs": [],
   "source": []
  }
 ],
 "metadata": {
  "kernelspec": {
   "display_name": "Python 3",
   "language": "python",
   "name": "python3"
  },
  "language_info": {
   "codemirror_mode": {
    "name": "ipython",
    "version": 3
   },
   "file_extension": ".py",
   "mimetype": "text/x-python",
   "name": "python",
   "nbconvert_exporter": "python",
   "pygments_lexer": "ipython3",
   "version": "3.6.9"
  }
 },
 "nbformat": 4,
 "nbformat_minor": 2
}
